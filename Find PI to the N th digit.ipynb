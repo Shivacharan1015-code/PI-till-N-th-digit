{
 "cells": [
  {
   "cell_type": "code",
   "execution_count": 69,
   "metadata": {},
   "outputs": [],
   "source": [
    "# To find PI to the N'th digit."
   ]
  },
  {
   "cell_type": "code",
   "execution_count": 70,
   "metadata": {},
   "outputs": [],
   "source": [
    "# using mpmath the easy way"
   ]
  },
  {
   "cell_type": "code",
   "execution_count": 71,
   "metadata": {},
   "outputs": [],
   "source": [
    "from mpmath import mp"
   ]
  },
  {
   "cell_type": "code",
   "execution_count": 72,
   "metadata": {},
   "outputs": [],
   "source": [
    "def generatepi(place):    \n",
    "    if place < 80:\n",
    "        mp.dps = place + 1\n",
    "        box = ('------------------------------------------------------------------------------------------------------------------------------------------------------------------------------------------------------------------------')    \n",
    "        #print(box[0:place+6])\n",
    "        print(box[0:place+6],'\\n|',mp.pi,'|')\n",
    "        print(box[0:place+6])     \n",
    "    else:\n",
    "        mp.dps = place + 1\n",
    "        print('----------------------------------------------------------------------------------------')\n",
    "        print(mp.pi)\n",
    "        print('----------------------------------------------------------------------------------------')"
   ]
  },
  {
   "cell_type": "code",
   "execution_count": 73,
   "metadata": {},
   "outputs": [],
   "source": [
    "def mainlogic():\n",
    "    a = 0\n",
    "    while True:\n",
    "    \n",
    "        if a == 0:\n",
    "            place = input(\"Till what decimal do you want your pi to be: \")\n",
    "            if place.isdigit():\n",
    "                generatepi(int(place))\n",
    "                break    \n",
    "            else:\n",
    "                print(\"Invalid INPUT, try again\")"
   ]
  },
  {
   "cell_type": "code",
   "execution_count": 75,
   "metadata": {},
   "outputs": [
    {
     "name": "stdout",
     "output_type": "stream",
     "text": [
      "Till what decimal do you want your pi to be: 10\n",
      "---------------- \n",
      "| 3.1415926536 |\n",
      "----------------\n",
      "\n",
      "DO YOU WANT THE PROGRAM TO RUN AGAIN (y/n)Y\n",
      "Till what decimal do you want your pi to be: 56\n",
      "-------------------------------------------------------------- \n",
      "| 3.14159265358979323846264338327950288419716939937510582097 |\n",
      "--------------------------------------------------------------\n",
      "\n",
      "DO YOU WANT THE PROGRAM TO RUN AGAIN (y/n)y\n",
      "Till what decimal do you want your pi to be: 100\n",
      "----------------------------------------------------------------------------------------\n",
      "3.141592653589793238462643383279502884197169399375105820974944592307816406286208998628034825342117068\n",
      "----------------------------------------------------------------------------------------\n",
      "\n",
      "DO YOU WANT THE PROGRAM TO RUN AGAIN (y/n)N\n"
     ]
    }
   ],
   "source": [
    "mainlogic()\n",
    "while True:\n",
    "    answer = input('\\nDO YOU WANT THE PROGRAM TO RUN AGAIN (y/n)')\n",
    "    if answer.lower() == 'y':\n",
    "        mainlogic()\n",
    "    elif answer.lower() == 'n':\n",
    "        break\n",
    "    elif answer.isdigit():\n",
    "        generatepi(int(answer))\n",
    "    else:\n",
    "        print(\"\\nThe input given by the user is not understandable by the program: \\n----------------------------------------------\\nAuto-Terminate has been enabled\")\n",
    "        break"
   ]
  },
  {
   "cell_type": "code",
   "execution_count": null,
   "metadata": {},
   "outputs": [],
   "source": []
  }
 ],
 "metadata": {
  "kernelspec": {
   "display_name": "Python 3",
   "language": "python",
   "name": "python3"
  },
  "language_info": {
   "codemirror_mode": {
    "name": "ipython",
    "version": 3
   },
   "file_extension": ".py",
   "mimetype": "text/x-python",
   "name": "python",
   "nbconvert_exporter": "python",
   "pygments_lexer": "ipython3",
   "version": "3.8.3"
  }
 },
 "nbformat": 4,
 "nbformat_minor": 4
}
